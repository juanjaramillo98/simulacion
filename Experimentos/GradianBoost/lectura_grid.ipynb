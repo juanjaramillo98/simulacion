{
 "cells": [
  {
   "cell_type": "code",
   "execution_count": 6,
   "metadata": {},
   "outputs": [],
   "source": [
    "import joblib\n",
    "import pandas as pd"
   ]
  },
  {
   "cell_type": "code",
   "execution_count": 7,
   "metadata": {},
   "outputs": [],
   "source": [
    "result=joblib.load('experimentoRandomforest.pkl')"
   ]
  },
  {
   "cell_type": "code",
   "execution_count": 8,
   "metadata": {},
   "outputs": [],
   "source": [
    "resultado=pd.DataFrame(result.cv_results_)"
   ]
  },
  {
   "cell_type": "code",
   "execution_count": 9,
   "metadata": {},
   "outputs": [
    {
     "data": {
      "text/plain": [
       "Index(['mean_fit_time', 'std_fit_time', 'mean_score_time', 'std_score_time',\n",
       "       'param_criterion', 'param_max_features', 'param_n_estimators', 'params',\n",
       "       'split0_test_AUC', 'split1_test_AUC', 'split2_test_AUC',\n",
       "       'mean_test_AUC', 'std_test_AUC', 'rank_test_AUC', 'split0_train_AUC',\n",
       "       'split1_train_AUC', 'split2_train_AUC', 'mean_train_AUC',\n",
       "       'std_train_AUC', 'split0_test_Accuracy', 'split1_test_Accuracy',\n",
       "       'split2_test_Accuracy', 'mean_test_Accuracy', 'std_test_Accuracy',\n",
       "       'rank_test_Accuracy', 'split0_train_Accuracy', 'split1_train_Accuracy',\n",
       "       'split2_train_Accuracy', 'mean_train_Accuracy', 'std_train_Accuracy'],\n",
       "      dtype='object')"
      ]
     },
     "execution_count": 9,
     "metadata": {},
     "output_type": "execute_result"
    }
   ],
   "source": [
    "resultado.columns"
   ]
  },
  {
   "cell_type": "code",
   "execution_count": 10,
   "metadata": {},
   "outputs": [
    {
     "data": {
      "text/html": [
       "<div>\n",
       "<style scoped>\n",
       "    .dataframe tbody tr th:only-of-type {\n",
       "        vertical-align: middle;\n",
       "    }\n",
       "\n",
       "    .dataframe tbody tr th {\n",
       "        vertical-align: top;\n",
       "    }\n",
       "\n",
       "    .dataframe thead th {\n",
       "        text-align: right;\n",
       "    }\n",
       "</style>\n",
       "<table border=\"1\" class=\"dataframe\">\n",
       "  <thead>\n",
       "    <tr style=\"text-align: right;\">\n",
       "      <th></th>\n",
       "      <th>params</th>\n",
       "      <th>mean_test_Accuracy</th>\n",
       "      <th>std_test_Accuracy</th>\n",
       "      <th>mean_test_AUC</th>\n",
       "      <th>std_test_AUC</th>\n",
       "    </tr>\n",
       "  </thead>\n",
       "  <tbody>\n",
       "    <tr>\n",
       "      <th>9</th>\n",
       "      <td>{'criterion': 'friedman_mse', 'max_features': ...</td>\n",
       "      <td>0.733677</td>\n",
       "      <td>0.004185</td>\n",
       "      <td>0.808670</td>\n",
       "      <td>0.006328</td>\n",
       "    </tr>\n",
       "    <tr>\n",
       "      <th>2</th>\n",
       "      <td>{'criterion': 'friedman_mse', 'max_features': ...</td>\n",
       "      <td>0.733600</td>\n",
       "      <td>0.001685</td>\n",
       "      <td>0.808263</td>\n",
       "      <td>0.004884</td>\n",
       "    </tr>\n",
       "    <tr>\n",
       "      <th>23</th>\n",
       "      <td>{'criterion': 'friedman_mse', 'max_features': ...</td>\n",
       "      <td>0.733268</td>\n",
       "      <td>0.005759</td>\n",
       "      <td>0.808252</td>\n",
       "      <td>0.006245</td>\n",
       "    </tr>\n",
       "    <tr>\n",
       "      <th>51</th>\n",
       "      <td>{'criterion': 'mse', 'max_features': 'auto', '...</td>\n",
       "      <td>0.733268</td>\n",
       "      <td>0.005759</td>\n",
       "      <td>0.808253</td>\n",
       "      <td>0.006241</td>\n",
       "    </tr>\n",
       "    <tr>\n",
       "      <th>36</th>\n",
       "      <td>{'criterion': 'mse', 'max_features': 12, 'n_es...</td>\n",
       "      <td>0.733152</td>\n",
       "      <td>0.004737</td>\n",
       "      <td>0.807040</td>\n",
       "      <td>0.006742</td>\n",
       "    </tr>\n",
       "    <tr>\n",
       "      <th>...</th>\n",
       "      <td>...</td>\n",
       "      <td>...</td>\n",
       "      <td>...</td>\n",
       "      <td>...</td>\n",
       "      <td>...</td>\n",
       "    </tr>\n",
       "    <tr>\n",
       "      <th>76</th>\n",
       "      <td>{'criterion': 'mae', 'max_features': 25, 'n_es...</td>\n",
       "      <td>0.720675</td>\n",
       "      <td>0.000990</td>\n",
       "      <td>0.758835</td>\n",
       "      <td>0.005039</td>\n",
       "    </tr>\n",
       "    <tr>\n",
       "      <th>34</th>\n",
       "      <td>{'criterion': 'mse', 'max_features': 4, 'n_est...</td>\n",
       "      <td>0.720277</td>\n",
       "      <td>0.003498</td>\n",
       "      <td>0.798425</td>\n",
       "      <td>0.002991</td>\n",
       "    </tr>\n",
       "    <tr>\n",
       "      <th>6</th>\n",
       "      <td>{'criterion': 'friedman_mse', 'max_features': ...</td>\n",
       "      <td>0.720256</td>\n",
       "      <td>0.002210</td>\n",
       "      <td>0.798992</td>\n",
       "      <td>0.003952</td>\n",
       "    </tr>\n",
       "    <tr>\n",
       "      <th>41</th>\n",
       "      <td>{'criterion': 'mse', 'max_features': 12, 'n_es...</td>\n",
       "      <td>0.719527</td>\n",
       "      <td>0.001954</td>\n",
       "      <td>0.797085</td>\n",
       "      <td>0.004375</td>\n",
       "    </tr>\n",
       "    <tr>\n",
       "      <th>20</th>\n",
       "      <td>{'criterion': 'friedman_mse', 'max_features': ...</td>\n",
       "      <td>0.719223</td>\n",
       "      <td>0.001781</td>\n",
       "      <td>0.796277</td>\n",
       "      <td>0.004430</td>\n",
       "    </tr>\n",
       "  </tbody>\n",
       "</table>\n",
       "<p>84 rows × 5 columns</p>\n",
       "</div>"
      ],
      "text/plain": [
       "                                               params  mean_test_Accuracy  \\\n",
       "9   {'criterion': 'friedman_mse', 'max_features': ...            0.733677   \n",
       "2   {'criterion': 'friedman_mse', 'max_features': ...            0.733600   \n",
       "23  {'criterion': 'friedman_mse', 'max_features': ...            0.733268   \n",
       "51  {'criterion': 'mse', 'max_features': 'auto', '...            0.733268   \n",
       "36  {'criterion': 'mse', 'max_features': 12, 'n_es...            0.733152   \n",
       "..                                                ...                 ...   \n",
       "76  {'criterion': 'mae', 'max_features': 25, 'n_es...            0.720675   \n",
       "34  {'criterion': 'mse', 'max_features': 4, 'n_est...            0.720277   \n",
       "6   {'criterion': 'friedman_mse', 'max_features': ...            0.720256   \n",
       "41  {'criterion': 'mse', 'max_features': 12, 'n_es...            0.719527   \n",
       "20  {'criterion': 'friedman_mse', 'max_features': ...            0.719223   \n",
       "\n",
       "    std_test_Accuracy  mean_test_AUC  std_test_AUC  \n",
       "9            0.004185       0.808670      0.006328  \n",
       "2            0.001685       0.808263      0.004884  \n",
       "23           0.005759       0.808252      0.006245  \n",
       "51           0.005759       0.808253      0.006241  \n",
       "36           0.004737       0.807040      0.006742  \n",
       "..                ...            ...           ...  \n",
       "76           0.000990       0.758835      0.005039  \n",
       "34           0.003498       0.798425      0.002991  \n",
       "6            0.002210       0.798992      0.003952  \n",
       "41           0.001954       0.797085      0.004375  \n",
       "20           0.001781       0.796277      0.004430  \n",
       "\n",
       "[84 rows x 5 columns]"
      ]
     },
     "execution_count": 10,
     "metadata": {},
     "output_type": "execute_result"
    }
   ],
   "source": [
    "resultado[['params','mean_test_Accuracy','std_test_Accuracy','mean_test_AUC','std_test_AUC']].sort_values(['mean_test_Accuracy'], ascending=[False]) "
   ]
  },
  {
   "cell_type": "code",
   "execution_count": 14,
   "metadata": {},
   "outputs": [
    {
     "data": {
      "text/plain": [
       "{'criterion': 'friedman_mse', 'max_features': 12, 'n_estimators': 20}"
      ]
     },
     "execution_count": 14,
     "metadata": {},
     "output_type": "execute_result"
    }
   ],
   "source": [
    "resultado[['params','mean_test_Accuracy']].sort_values(['mean_test_Accuracy'], ascending=[False]).iloc[0]['params']"
   ]
  },
  {
   "cell_type": "code",
   "execution_count": null,
   "metadata": {},
   "outputs": [],
   "source": []
  }
 ],
 "metadata": {
  "kernelspec": {
   "display_name": "Python 3",
   "language": "python",
   "name": "python3"
  },
  "language_info": {
   "codemirror_mode": {
    "name": "ipython",
    "version": 3
   },
   "file_extension": ".py",
   "mimetype": "text/x-python",
   "name": "python",
   "nbconvert_exporter": "python",
   "pygments_lexer": "ipython3",
   "version": "3.8.3"
  }
 },
 "nbformat": 4,
 "nbformat_minor": 4
}
