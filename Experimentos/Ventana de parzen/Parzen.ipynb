{
 "cells": [
  {
   "cell_type": "code",
   "execution_count": 1,
   "metadata": {
    "id": "8dZz8VkfuXuE"
   },
   "outputs": [],
   "source": [
    "import pandas as pd\n",
    "import numpy as np\n",
    "from sklearn.preprocessing import StandardScaler"
   ]
  },
  {
   "cell_type": "code",
   "execution_count": 2,
   "metadata": {
    "id": "eM5WYXvluiLo"
   },
   "outputs": [],
   "source": [
    "df=pd.read_csv('../../Database/high_diamond_ranked_10min.csv',index_col=False)\n",
    "scaler=StandardScaler()\n"
   ]
  },
  {
   "cell_type": "code",
   "execution_count": 3,
   "metadata": {
    "id": "7FWuJboBul00"
   },
   "outputs": [],
   "source": [
    "y=df['blueWins']\n",
    "X=scaler.fit_transform(df.drop(['blueWins'],axis=1))"
   ]
  },
  {
   "cell_type": "code",
   "execution_count": 4,
   "metadata": {
    "id": "PICr2taAuv0u"
   },
   "outputs": [],
   "source": [
    "from sklearn.model_selection import GridSearchCV\n",
    "from sklearn.model_selection import train_test_split\n",
    "from sklearn.metrics import accuracy_score, make_scorer\n",
    "from sklearn.neighbors import KernelDensity\n",
    "from sklearn.model_selection import KFold\n",
    "from sklearn.utils import class_weight\n",
    "import joblib"
   ]
  },
  {
   "cell_type": "code",
   "execution_count": 5,
   "metadata": {
    "id": "WH79mT6xux4H"
   },
   "outputs": [],
   "source": [
    "from sklearn.base import BaseEstimator, ClassifierMixin\n",
    "class KDEClassifier(BaseEstimator, ClassifierMixin):\n",
    "    \"\"\"Bayesian generative classification based on KDE\n",
    "    \n",
    "    Parameters\n",
    "    ----------\n",
    "    bandwidth : float\n",
    "        the kernel bandwidth within each class\n",
    "    kernel : str\n",
    "        the kernel name, passed to KernelDensity\n",
    "    \"\"\"\n",
    "    def __init__(self, bandwidth=1.0, kernel='gaussian'):\n",
    "        self.bandwidth = bandwidth\n",
    "        self.kernel = kernel\n",
    "        \n",
    "    def fit(self, X, y):\n",
    "        self.classes_ = np.sort(np.unique(y))\n",
    "        training_sets = [X[y == yi] for yi in self.classes_]\n",
    "        self.models_ = [KernelDensity(bandwidth=self.bandwidth,\n",
    "                                      kernel=self.kernel).fit(Xi)\n",
    "                        for Xi in training_sets]\n",
    "        self.logpriors_ = [np.log(Xi.shape[0] / X.shape[0])\n",
    "                           for Xi in training_sets]\n",
    "        return self\n",
    "        \n",
    "    def predict_proba(self, X):\n",
    "        logprobs = np.array([model.score_samples(X)\n",
    "                             for model in self.models_]).T\n",
    "        result = np.exp(logprobs + self.logpriors_)\n",
    "        return result / result.sum(1, keepdims=True)\n",
    "        \n",
    "    def predict(self, X):\n",
    "        return self.classes_[np.argmax(self.predict_proba(X), 1)]"
   ]
  },
  {
   "cell_type": "code",
   "execution_count": 13,
   "metadata": {
    "id": "vfB1gfeXwzps"
   },
   "outputs": [],
   "source": [
    "def gridSearch(model,params,X,Y,VALID_SIZE,FOLDS=2):\n",
    "    skf = KFold(n_splits=FOLDS)\n",
    "    scoring = {'AUC': 'roc_auc', 'Accuracy':'accuracy'}    \n",
    "    X_train, X_test, Y_train, Y_test = train_test_split(X,Y, test_size=VALID_SIZE, shuffle=True)\n",
    "    gs = GridSearchCV(model, scoring=scoring,cv=skf, param_grid=params, return_train_score=True, n_jobs=-1,refit='AUC')\n",
    "    gs.fit(X_train, Y_train)\n",
    "    print(gs.best_estimator_)\n",
    "    print(np.abs(gs.best_score_))\n",
    "    return gs,X_test,Y_test"
   ]
  },
  {
   "cell_type": "code",
   "execution_count": 11,
   "metadata": {
    "id": "1kPB4eaqLJpr"
   },
   "outputs": [],
   "source": [
    "from sklearn.metrics import balanced_accuracy_score\n",
    "from sklearn.metrics import roc_auc_score\n",
    "import scikitplot as skplt#Esta librería toca instalarla \"conda install -c conda-forge scikit-plot\"\n",
    "from sklearn.metrics import classification_report\n",
    "from sklearn.preprocessing import MinMaxScaler\n",
    "\n",
    "def hiper(X,Y,band):\n",
    "    #Validamos el modelo\n",
    "    Folds = 10\n",
    "    skf = KFold(n_splits=Folds)\n",
    "    resultados = pd.DataFrame()\n",
    "    idx = 0\n",
    "\n",
    "    for k in band:\n",
    "        Acc = []\n",
    "        Auc= []\n",
    "\n",
    "        for j, (train, test) in enumerate(skf.split(X, Y)):\n",
    "            Xtrain= X[train,:]\n",
    "            Ytrain = Y[train]\n",
    "            Xtest = X[test, :]\n",
    "            Ytest = Y[test]\n",
    "            #Normalizamos los datos\n",
    "            scaler = StandardScaler().fit(X= Xtrain)       \n",
    "            Xtrain = scaler.transform(Xtrain)\n",
    "            Xtest = scaler.transform(Xtest)\n",
    "            model = KDEClassifier(bandwidth=k, kernel='gaussian')\n",
    "\n",
    "            model.fit(X=Xtrain, y=Ytrain)\n",
    "            Yest = model.predict_proba(Xtest)\n",
    "            Yest=np.nan_to_num(Yest)\n",
    "            Acc.append(balanced_accuracy_score(Ytest,np.argmax(Yest, 1)))\n",
    "            aux=roc_auc_score(Ytest,Yest[:,1])\n",
    "            Auc.append(aux)\n",
    "    \n",
    "        resultados.loc[idx,'BandWith'] = k\n",
    "        resultados.loc[idx,'AUC medio'] = np.mean(Auc)\n",
    "        resultados.loc[idx,'AUC intervalo de confianza'] = np.std(Auc)\n",
    "        resultados.loc[idx,'Accuracy medio'] = np.mean(Acc)\n",
    "        resultados.loc[idx,'Accuracy intervalo de confianza'] = np.std(Acc)\n",
    "        idx=idx+1\n",
    "    \n",
    "    return (resultados)\n",
    "\n",
    "def experimentar(X,Y):\n",
    "    #Validamos el modelo\n",
    "    Folds = 10\n",
    "    skf = KFold(n_splits=Folds)\n",
    "    resultados = pd.DataFrame()\n",
    "    idx = 0\n",
    "    Acc = []\n",
    "    Auc= []\n",
    "\n",
    "    for j, (train, test) in enumerate(skf.split(X, Y)):\n",
    "        Xtrain= X[train,:]\n",
    "        Ytrain = Y[train]\n",
    "        Xtest = X[test, :]\n",
    "        Ytest = Y[test]\n",
    "        #Normalizamos los datos\n",
    "        scaler = StandardScaler().fit(X= Xtrain)       \n",
    "        Xtrain = scaler.transform(Xtrain)\n",
    "        Xtest = scaler.transform(Xtest)\n",
    "        model = KDEClassifier(bandwidth=1.85, kernel='gaussian')\n",
    "        model.fit(X=Xtrain, y=Ytrain)\n",
    "        Yest = model.predict_proba(Xtest)\n",
    "        Yest=np.nan_to_num(Yest)\n",
    "        Acc.append(balanced_accuracy_score(Ytest,np.argmax(Yest, 1)))\n",
    "        aux=roc_auc_score(Ytest,Yest[:,1])\n",
    "        Auc.append(aux)\n",
    "    skplt.metrics.plot_confusion_matrix(Ytest,np.argmax(Yest, 1),normalize=True) #matriz de confusión\n",
    "    skplt.metrics.plot_roc(Ytest,Yest)\n",
    "    print(classification_report(Ytest,np.argmax(Yest, 1)))\n",
    "    \n",
    "    resultados.loc[idx,'AUC medio'] = np.mean(Auc)\n",
    "    resultados.loc[idx,'AUC intervalo de confianza'] = np.std(Auc)\n",
    "    resultados.loc[idx,'Accuracy medio'] = np.mean(Acc)\n",
    "    resultados.loc[idx,'Accuracy intervalo de confianza'] = np.std(Acc)\n",
    "    return (resultados)"
   ]
  },
  {
   "cell_type": "code",
   "execution_count": 10,
   "metadata": {
    "colab": {
     "base_uri": "https://localhost:8080/",
     "height": 699
    },
    "id": "OovVw01vflkV",
    "outputId": "d385aa8b-3ae4-4ab7-fd43-c210f0c7c103",
    "scrolled": false
   },
   "outputs": [
    {
     "name": "stderr",
     "output_type": "stream",
     "text": [
      "<ipython-input-5-5b9b2a44f081>:30: RuntimeWarning: invalid value encountered in true_divide\n",
      "  return result / result.sum(1, keepdims=True)\n",
      "<ipython-input-5-5b9b2a44f081>:30: RuntimeWarning: invalid value encountered in true_divide\n",
      "  return result / result.sum(1, keepdims=True)\n",
      "<ipython-input-5-5b9b2a44f081>:30: RuntimeWarning: invalid value encountered in true_divide\n",
      "  return result / result.sum(1, keepdims=True)\n",
      "<ipython-input-5-5b9b2a44f081>:30: RuntimeWarning: invalid value encountered in true_divide\n",
      "  return result / result.sum(1, keepdims=True)\n",
      "<ipython-input-5-5b9b2a44f081>:30: RuntimeWarning: invalid value encountered in true_divide\n",
      "  return result / result.sum(1, keepdims=True)\n",
      "<ipython-input-5-5b9b2a44f081>:30: RuntimeWarning: invalid value encountered in true_divide\n",
      "  return result / result.sum(1, keepdims=True)\n",
      "<ipython-input-5-5b9b2a44f081>:30: RuntimeWarning: invalid value encountered in true_divide\n",
      "  return result / result.sum(1, keepdims=True)\n",
      "<ipython-input-5-5b9b2a44f081>:30: RuntimeWarning: invalid value encountered in true_divide\n",
      "  return result / result.sum(1, keepdims=True)\n",
      "<ipython-input-5-5b9b2a44f081>:30: RuntimeWarning: invalid value encountered in true_divide\n",
      "  return result / result.sum(1, keepdims=True)\n",
      "<ipython-input-5-5b9b2a44f081>:30: RuntimeWarning: invalid value encountered in true_divide\n",
      "  return result / result.sum(1, keepdims=True)\n"
     ]
    },
    {
     "data": {
      "text/html": [
       "<div>\n",
       "<style scoped>\n",
       "    .dataframe tbody tr th:only-of-type {\n",
       "        vertical-align: middle;\n",
       "    }\n",
       "\n",
       "    .dataframe tbody tr th {\n",
       "        vertical-align: top;\n",
       "    }\n",
       "\n",
       "    .dataframe thead th {\n",
       "        text-align: right;\n",
       "    }\n",
       "</style>\n",
       "<table border=\"1\" class=\"dataframe\">\n",
       "  <thead>\n",
       "    <tr style=\"text-align: right;\">\n",
       "      <th></th>\n",
       "      <th>BandWith</th>\n",
       "      <th>AUC medio</th>\n",
       "      <th>AUC intervalo de confianza</th>\n",
       "      <th>Accuracy medio</th>\n",
       "      <th>Accuracy intervalo de confianza</th>\n",
       "    </tr>\n",
       "  </thead>\n",
       "  <tbody>\n",
       "    <tr>\n",
       "      <th>0</th>\n",
       "      <td>0.05</td>\n",
       "      <td>0.510216</td>\n",
       "      <td>0.011937</td>\n",
       "      <td>0.507686</td>\n",
       "      <td>0.011249</td>\n",
       "    </tr>\n",
       "    <tr>\n",
       "      <th>1</th>\n",
       "      <td>0.25</td>\n",
       "      <td>0.580094</td>\n",
       "      <td>0.020810</td>\n",
       "      <td>0.559028</td>\n",
       "      <td>0.014521</td>\n",
       "    </tr>\n",
       "    <tr>\n",
       "      <th>2</th>\n",
       "      <td>0.45</td>\n",
       "      <td>0.651336</td>\n",
       "      <td>0.013587</td>\n",
       "      <td>0.613394</td>\n",
       "      <td>0.012240</td>\n",
       "    </tr>\n",
       "    <tr>\n",
       "      <th>3</th>\n",
       "      <td>0.65</td>\n",
       "      <td>0.701493</td>\n",
       "      <td>0.013301</td>\n",
       "      <td>0.646087</td>\n",
       "      <td>0.010901</td>\n",
       "    </tr>\n",
       "    <tr>\n",
       "      <th>4</th>\n",
       "      <td>0.85</td>\n",
       "      <td>0.729195</td>\n",
       "      <td>0.012915</td>\n",
       "      <td>0.671213</td>\n",
       "      <td>0.008683</td>\n",
       "    </tr>\n",
       "    <tr>\n",
       "      <th>5</th>\n",
       "      <td>1.05</td>\n",
       "      <td>0.758970</td>\n",
       "      <td>0.011550</td>\n",
       "      <td>0.693278</td>\n",
       "      <td>0.009927</td>\n",
       "    </tr>\n",
       "    <tr>\n",
       "      <th>6</th>\n",
       "      <td>1.25</td>\n",
       "      <td>0.782463</td>\n",
       "      <td>0.010661</td>\n",
       "      <td>0.712602</td>\n",
       "      <td>0.008458</td>\n",
       "    </tr>\n",
       "    <tr>\n",
       "      <th>7</th>\n",
       "      <td>1.45</td>\n",
       "      <td>0.795726</td>\n",
       "      <td>0.010654</td>\n",
       "      <td>0.720497</td>\n",
       "      <td>0.009724</td>\n",
       "    </tr>\n",
       "    <tr>\n",
       "      <th>8</th>\n",
       "      <td>1.65</td>\n",
       "      <td>0.802250</td>\n",
       "      <td>0.010609</td>\n",
       "      <td>0.722909</td>\n",
       "      <td>0.009330</td>\n",
       "    </tr>\n",
       "    <tr>\n",
       "      <th>9</th>\n",
       "      <td>1.85</td>\n",
       "      <td>0.805607</td>\n",
       "      <td>0.010482</td>\n",
       "      <td>0.724182</td>\n",
       "      <td>0.009252</td>\n",
       "    </tr>\n",
       "  </tbody>\n",
       "</table>\n",
       "</div>"
      ],
      "text/plain": [
       "   BandWith  AUC medio  AUC intervalo de confianza  Accuracy medio  \\\n",
       "0      0.05   0.510216                    0.011937        0.507686   \n",
       "1      0.25   0.580094                    0.020810        0.559028   \n",
       "2      0.45   0.651336                    0.013587        0.613394   \n",
       "3      0.65   0.701493                    0.013301        0.646087   \n",
       "4      0.85   0.729195                    0.012915        0.671213   \n",
       "5      1.05   0.758970                    0.011550        0.693278   \n",
       "6      1.25   0.782463                    0.010661        0.712602   \n",
       "7      1.45   0.795726                    0.010654        0.720497   \n",
       "8      1.65   0.802250                    0.010609        0.722909   \n",
       "9      1.85   0.805607                    0.010482        0.724182   \n",
       "\n",
       "   Accuracy intervalo de confianza  \n",
       "0                         0.011249  \n",
       "1                         0.014521  \n",
       "2                         0.012240  \n",
       "3                         0.010901  \n",
       "4                         0.008683  \n",
       "5                         0.009927  \n",
       "6                         0.008458  \n",
       "7                         0.009724  \n",
       "8                         0.009330  \n",
       "9                         0.009252  "
      ]
     },
     "execution_count": 10,
     "metadata": {},
     "output_type": "execute_result"
    }
   ],
   "source": [
    "hiper(X,y,np.arange(0.05,2,.2))"
   ]
  },
  {
   "cell_type": "code",
   "execution_count": 13,
   "metadata": {
    "colab": {
     "base_uri": "https://localhost:8080/",
     "height": 823
    },
    "id": "AxJeCl0KRcgW",
    "outputId": "ede8ccc1-7a07-4021-c3d8-62fe833b64f4"
   },
   "outputs": [
    {
     "name": "stdout",
     "output_type": "stream",
     "text": [
      "              precision    recall  f1-score   support\n",
      "\n",
      "           0       0.74      0.72      0.73       516\n",
      "           1       0.70      0.72      0.71       471\n",
      "\n",
      "    accuracy                           0.72       987\n",
      "   macro avg       0.72      0.72      0.72       987\n",
      "weighted avg       0.72      0.72      0.72       987\n",
      "\n"
     ]
    },
    {
     "data": {
      "text/html": [
       "<div>\n",
       "<style scoped>\n",
       "    .dataframe tbody tr th:only-of-type {\n",
       "        vertical-align: middle;\n",
       "    }\n",
       "\n",
       "    .dataframe tbody tr th {\n",
       "        vertical-align: top;\n",
       "    }\n",
       "\n",
       "    .dataframe thead th {\n",
       "        text-align: right;\n",
       "    }\n",
       "</style>\n",
       "<table border=\"1\" class=\"dataframe\">\n",
       "  <thead>\n",
       "    <tr style=\"text-align: right;\">\n",
       "      <th></th>\n",
       "      <th>AUC medio</th>\n",
       "      <th>AUC intervalo de confianza</th>\n",
       "      <th>Accuracy medio</th>\n",
       "      <th>Accuracy intervalo de confianza</th>\n",
       "    </tr>\n",
       "  </thead>\n",
       "  <tbody>\n",
       "    <tr>\n",
       "      <th>0</th>\n",
       "      <td>0.805607</td>\n",
       "      <td>0.010482</td>\n",
       "      <td>0.724182</td>\n",
       "      <td>0.009252</td>\n",
       "    </tr>\n",
       "  </tbody>\n",
       "</table>\n",
       "</div>"
      ],
      "text/plain": [
       "   AUC medio  AUC intervalo de confianza  Accuracy medio  \\\n",
       "0   0.805607                    0.010482        0.724182   \n",
       "\n",
       "   Accuracy intervalo de confianza  \n",
       "0                         0.009252  "
      ]
     },
     "execution_count": 13,
     "metadata": {},
     "output_type": "execute_result"
    },
    {
     "data": {
      "image/png": "[encoded data removed]",
      "text/plain": [
       "<Figure size 432x288 with 2 Axes>"
      ]
     },
     "metadata": {
      "needs_background": "light"
     },
     "output_type": "display_data"
    },
    {
     "data": {
      "image/png": "[encoded data removed]",
      "text/plain": [
       "<Figure size 432x288 with 1 Axes>"
      ]
     },
     "metadata": {
      "needs_background": "light"
     },
     "output_type": "display_data"
    }
   ],
   "source": [
    "experimentar(X,y)"
   ]
  },
  {
   "cell_type": "code",
   "execution_count": null,
   "metadata": {
    "id": "TGLjmYAoRcgb"
   },
   "outputs": [],
   "source": []
  }
 ],
 "metadata": {
  "colab": {
   "name": "Parzen.ipynb",
   "provenance": []
  },
  "kernelspec": {
   "display_name": "Python 3",
   "language": "python",
   "name": "python3"
  },
  "language_info": {
   "codemirror_mode": {
    "name": "ipython",
    "version": 3
   },
   "file_extension": ".py",
   "mimetype": "text/x-python",
   "name": "python",
   "nbconvert_exporter": "python",
   "pygments_lexer": "ipython3",
   "version": "3.8.3"
  }
 },
 "nbformat": 4,
 "nbformat_minor": 1
}
